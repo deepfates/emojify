{
 "cells": [
  {
   "cell_type": "code",
   "execution_count": null,
   "metadata": {},
   "outputs": [],
   "source": [
    "import csv\n",
    "\n",
    "with open('personas.csv', 'r') as csvfile:\n",
    "    csv_reader = csv.reader(csvfile)\n",
    "    lines = dict(csv_reader)\n",
    "lines.pop('character')\n",
    "lines\n"
   ]
  },
  {
   "cell_type": "code",
   "execution_count": 16,
   "metadata": {},
   "outputs": [],
   "source": [
    "import json\n",
    "\n",
    "with open(\"emojis.json\", 'r') as f:\n",
    "    emojis_raw = json.load(f)\n",
    "emojis = {}\n",
    "for k,v in emojis_raw.items():\n",
    "    for o in v:\n",
    "        keywords = \" \".join(o[\"keywords\"])\n",
    "        full_description = f\"{o['description']} {keywords}\"\n",
    "        unicode_char = f'{o[\"code\"].replace(\"+\", \"000\")}'\n",
    "        emojis[full_description] = o[\"emoji\"]\n",
    "# print(\"Emojis loaded:\", emojis)"
   ]
  },
  {
   "cell_type": "code",
   "execution_count": 21,
   "metadata": {},
   "outputs": [],
   "source": [
    "with open('data.py', 'w') as f:\n",
    "    print(\"CHARACTERS = \", lines, file=f)\n",
    "    print(\"EMOJIS = \", emojis, file=f)"
   ]
  },
  {
   "cell_type": "code",
   "execution_count": null,
   "metadata": {},
   "outputs": [],
   "source": []
  }
 ],
 "metadata": {
  "kernelspec": {
   "display_name": "Python 3.10.4 64-bit",
   "language": "python",
   "name": "python3"
  },
  "language_info": {
   "codemirror_mode": {
    "name": "ipython",
    "version": 3
   },
   "file_extension": ".py",
   "mimetype": "text/x-python",
   "name": "python",
   "nbconvert_exporter": "python",
   "pygments_lexer": "ipython3",
   "version": "3.10.4"
  },
  "orig_nbformat": 4,
  "vscode": {
   "interpreter": {
    "hash": "916dbcbb3f70747c44a77c7bcd40155683ae19c65e1c03b4aa3499c5328201f1"
   }
  }
 },
 "nbformat": 4,
 "nbformat_minor": 2
}
